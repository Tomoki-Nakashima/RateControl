{
  "nbformat": 4,
  "nbformat_minor": 0,
  "metadata": {
    "colab": {
      "provenance": [],
      "collapsed_sections": [],
      "authorship_tag": "ABX9TyNkliB8pJO2INfEyXAZqzV7",
      "include_colab_link": true
    },
    "kernelspec": {
      "name": "python3",
      "display_name": "Python 3"
    },
    "language_info": {
      "name": "python"
    }
  },
  "cells": [
    {
      "cell_type": "markdown",
      "metadata": {
        "id": "view-in-github",
        "colab_type": "text"
      },
      "source": [
        "<a href=\"https://colab.research.google.com/github/Tomoki-Nakashima/RateControl/blob/master/my_kmeans.ipynb\" target=\"_parent\"><img src=\"https://colab.research.google.com/assets/colab-badge.svg\" alt=\"Open In Colab\"/></a>"
      ]
    },
    {
      "cell_type": "code",
      "execution_count": null,
      "metadata": {
        "id": "9NCUxWCAvZ-z"
      },
      "outputs": [],
      "source": [
        "import numpy as np\n",
        "import matplotlib.pyplot as plt"
      ]
    },
    {
      "cell_type": "code",
      "source": [
        "# 長さ1\n",
        "x1 = np.array([5,\t5,\t5,\t5,\t6,\t6,\t6,\t6])\n",
        "y1 = np.array([1,\t3,\t5,\t7,\t1,\t3,\t5,\t7])\n",
        "# 長さ2\n",
        "x2 = np.array([1, 1, \t3, \t3, \t3,\t3])\n",
        "y2 = np.array([2,\t6,\t1,\t3,\t5,\t7])\n",
        "\n",
        "x = np.concatenate([x1, x2])\n",
        "y = np.concatenate([y1, y2])\n",
        "\n",
        "#1次元目をx，2次元目をyとする行列を作成\n",
        "node_data = np.c_[x, y]\n",
        "node_data1 = np.c_[x1, y1]\n",
        "node_data2 = np.c_[x2, y2]\n",
        "\n",
        "\n",
        "#x軸とy軸の幅を設定する\n",
        "plt.xlim([0, 7])\n",
        "plt.ylim([0, 8])\n",
        "plt.title('data')\n",
        "#散布図を作成\n",
        "plt.scatter(x, y)\n",
        "plt.show()"
      ],
      "metadata": {
        "colab": {
          "base_uri": "https://localhost:8080/",
          "height": 281
        },
        "id": "FkaPD-TQvkKx",
        "outputId": "f27d7d00-201e-44ca-d8bb-cf5dd02a8b76"
      },
      "execution_count": null,
      "outputs": [
        {
          "output_type": "display_data",
          "data": {
            "text/plain": [
              "<Figure size 432x288 with 1 Axes>"
            ],
            "image/png": "[encoded data removed]"
          },
          "metadata": {
            "needs_background": "light"
          }
        }
      ]
    },
    {
      "cell_type": "code",
      "source": [
        "# 長さ1\n",
        "x1 = np.array([5,\t5,\t5,\t5,\t6,\t6,\t6,\t6,\t10, 10,\t10,\t10])\n",
        "y1 = np.array([1,\t3,\t5,\t7,\t1,\t3,\t5,\t7,\t1,\t3,\t5,\t7])\n",
        "# 長さ2\n",
        "x2 = np.array([1, 1, \t3, \t3, \t3,\t3, 8,\t8, 8,\t8])\n",
        "y2 = np.array([2,\t6,\t1,\t3,\t5,\t7, 0, 3, 5, 8])\n",
        "\n",
        "x = np.concatenate([x1, x2])\n",
        "y = np.concatenate([y1, y2])\n",
        "\n",
        "#1次元目をx，2次元目をyとする行列を作成\n",
        "node_data = np.c_[x, y]\n",
        "node_data1 = np.c_[x1, y1]\n",
        "node_data2 = np.c_[x2, y2]\n",
        "\n",
        "\n",
        "#x軸とy軸の幅を設定する\n",
        "#plt.xlim([0, 9])\n",
        "#plt.ylim([-1, 9])\n",
        "#plt.title('data')\n",
        "#散布図を作成\n",
        "plt.scatter(x, y)\n",
        "plt.show()"
      ],
      "metadata": {
        "colab": {
          "base_uri": "https://localhost:8080/",
          "height": 265
        },
        "outputId": "5bac6fb1-6e04-4cd4-94d0-9e625142913c",
        "id": "lSkRnyslCUC4"
      },
      "execution_count": null,
      "outputs": [
        {
          "output_type": "display_data",
          "data": {
            "text/plain": [
              "<Figure size 432x288 with 1 Axes>"
            ],
            "image/png": "[encoded data removed]"
          },
          "metadata": {
            "needs_background": "light"
          }
        }
      ]
    },
    {
      "cell_type": "code",
      "source": [
        "# クラスタ数\n",
        "n_clusters = 4\n",
        "# 最大ループ数\n",
        "max_iter = 300\n",
        "# クラスタ毎の線分の各長さの数\n",
        "# [クラスタ, 線分の各長さの数]\n",
        "clusters_segment_length = np.array([[3,2],[3,3],[3,2],[3,3]])"
      ],
      "metadata": {
        "id": "BdWSsj-pyYCj"
      },
      "execution_count": null,
      "outputs": []
    },
    {
      "cell_type": "code",
      "source": [
        "# 初期点決定\n",
        "centroids = np.array([[8,0],[8,3],[8,5],[8,8]])\n",
        "# クラスタの初期宣言\n",
        "clusters = np.zeros(len(node_data))\n",
        "clusters1 = np.zeros(len(node_data1))\n",
        "clusters2 = np.zeros(len(node_data2))"
      ],
      "metadata": {
        "id": "kPBxQ5OTP6rK"
      },
      "execution_count": null,
      "outputs": []
    },
    {
      "cell_type": "code",
      "source": [
        "for _ in range(max_iter):\n",
        "  csl = clusters_segment_length.copy()\n",
        "  #print(csl)\n",
        "  distance1 = np.array([np.linalg.norm(node_data1 - c, axis = 1) for c in centroids])\n",
        "  distance2 = np.array([np.linalg.norm(node_data2 - c, axis = 1) for c in centroids])\n",
        "  #print(distance1)\n",
        "  #print(distance2)\n",
        "  #長さ1のグループ\n",
        "  for node in enumerate(node_data1):\n",
        "    clus = distance1[:,node[0]].argmin(axis=0)\n",
        "    while(csl[clus,0]==0):\n",
        "      distance1[clus, node[0]]=np.inf\n",
        "      clus = distance1[:,node[0]].argmin(axis=0)\n",
        "    clusters1[node[0]] = clus\n",
        "    csl[clus,0] -= 1\n",
        "    distance1[clus, node[0]]=np.inf\n",
        "  #長さ2のグループ\n",
        "  for node in enumerate(node_data2):\n",
        "    clus = distance2[:,node[0]].argmin(axis=0)\n",
        "    while(csl[clus,1]==0):\n",
        "      distance2[clus, node[0]]=np.inf\n",
        "      clus = distance2[:,node[0]].argmin(axis=0)\n",
        "    clusters2[node[0]] = clus\n",
        "    csl[clus,1] -= 1\n",
        "    distance2[clus, node[0]]=np.inf\n",
        "  # 収束判定\n",
        "  new_clusters = np.r_[clusters1, clusters2]\n",
        "  #print(distance1)\n",
        "  #print(distance2)\n",
        "  #print(clusters1)\n",
        "  #print(clusters2)\n",
        "  #print(clusters)\n",
        "  #print(new_clusters)\n",
        "  if np.allclose(clusters, new_clusters):\n",
        "    break\n",
        "  clusters = new_clusters\n",
        "  # 重心の更新\n",
        "  # 各クラスタのデータ点の平均をとる\n",
        "  centroids = np.array([node_data[clusters == n, :].mean(axis = 0) for n in range(n_clusters)])\n",
        "  #print(centroids)"
      ],
      "metadata": {
        "id": "dP2T5fR1Ot5i"
      },
      "execution_count": null,
      "outputs": []
    },
    {
      "cell_type": "code",
      "source": [
        "# 色とマーカーの形を設定\n",
        "colors = ['b','g','y','r']\n",
        "markers = ['o','s','D','^']\n",
        "\n",
        "for i, l in enumerate(clusters):\n",
        "  plt.plot(x[i],y[i], color=colors[int(l)],marker=markers[int(l)], ls='None')\n",
        "#plt.xlim([0, 9])\n",
        "#plt.ylim([-1, 9])\n",
        "plt.show()"
      ],
      "metadata": {
        "colab": {
          "base_uri": "https://localhost:8080/",
          "height": 265
        },
        "id": "sIJUOw4h6XOk",
        "outputId": "44459526-b2fe-4156-90cf-e79732daad20"
      },
      "execution_count": null,
      "outputs": [
        {
          "output_type": "display_data",
          "data": {
            "text/plain": [
              "<Figure size 432x288 with 1 Axes>"
            ],
            "image/png": "[encoded data removed]"
          },
          "metadata": {
            "needs_background": "light"
          }
        }
      ]
    }
  ]
}